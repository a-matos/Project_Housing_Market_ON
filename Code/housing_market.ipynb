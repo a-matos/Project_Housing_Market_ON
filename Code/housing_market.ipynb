{
 "cells": [
  {
   "cell_type": "code",
   "execution_count": 1,
   "id": "e1b88240",
   "metadata": {},
   "outputs": [],
   "source": [
    "# Dependencies and Setup\n",
    "import matplotlib.pyplot as plt\n",
    "import pandas as pd\n",
    "import scipy.stats as st\n",
    "\n",
    "# Data Path\n",
    "# data_path = \"Resources/blank.csv\"\n",
    "# data_path_2 = \"Resources/blank2.csv\"\n",
    "\n",
    "# Read the mouse data and the study results\n",
    "# data = pd.read_csv(data_path)\n",
    "# data2 = pd.read_csv(data_path_2)\n",
    "\n",
    "# Merge\n",
    "# data_pd = pd.merge(data, data2, how = \"\", on = \"\")\n",
    "# data_pd.head()"
   ]
  },
  {
   "cell_type": "code",
   "execution_count": null,
   "id": "c273fb02",
   "metadata": {},
   "outputs": [],
   "source": [
    "# Clean up data"
   ]
  },
  {
   "cell_type": "code",
   "execution_count": null,
   "id": "9afaa308",
   "metadata": {},
   "outputs": [],
   "source": [
    "#test 1 GIT HUB"
   ]
  }
 ],
 "metadata": {
  "kernelspec": {
   "display_name": "Python 3 (ipykernel)",
   "language": "python",
   "name": "python3"
  },
  "language_info": {
   "codemirror_mode": {
    "name": "ipython",
    "version": 3
   },
   "file_extension": ".py",
   "mimetype": "text/x-python",
   "name": "python",
   "nbconvert_exporter": "python",
   "pygments_lexer": "ipython3",
   "version": "3.9.12"
  }
 },
 "nbformat": 4,
 "nbformat_minor": 5
}
